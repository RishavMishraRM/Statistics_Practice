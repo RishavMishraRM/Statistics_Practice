{
 "cells": [
  {
   "cell_type": "markdown",
   "id": "a85a1aa7",
   "metadata": {},
   "source": [
    "stats\n",
    "1. descitive stats\n",
    "\n",
    "2. inferential stats\n"
   ]
  },
  {
   "cell_type": "markdown",
   "id": "98012347",
   "metadata": {},
   "source": [
    "pandas\n",
    "numpy\n",
    "matplotlib and seaborn\n",
    "statsmodel\n",
    "scipy\n",
    "statistics"
   ]
  },
  {
   "cell_type": "markdown",
   "id": "2db52f87",
   "metadata": {},
   "source": [
    "Data"
   ]
  },
  {
   "cell_type": "code",
   "execution_count": 1,
   "id": "ec22db06",
   "metadata": {
    "ExecuteTime": {
     "end_time": "2023-09-28T06:36:48.733352Z",
     "start_time": "2023-09-28T06:36:48.717438Z"
    }
   },
   "outputs": [
    {
     "name": "stdout",
     "output_type": "stream",
     "text": [
      "[27, 57, 54, 26, 34, 44, 40, 39, 30, 34]\n"
     ]
    }
   ],
   "source": [
    "import random\n",
    "\n",
    "data=[]\n",
    "\n",
    "for _ in range(10):\n",
    "    random_number=random.randint(15,60)\n",
    "    data.append(random_number)\n",
    "    \n",
    "print(data)"
   ]
  },
  {
   "cell_type": "code",
   "execution_count": 2,
   "id": "61c9da0f",
   "metadata": {
    "ExecuteTime": {
     "end_time": "2023-09-28T06:36:49.447075Z",
     "start_time": "2023-09-28T06:36:49.435057Z"
    }
   },
   "outputs": [
    {
     "data": {
      "text/plain": [
       "[27, 57, 54, 26, 34, 44, 40, 39, 30, 34]"
      ]
     },
     "execution_count": 2,
     "metadata": {},
     "output_type": "execute_result"
    }
   ],
   "source": [
    "data"
   ]
  },
  {
   "cell_type": "code",
   "execution_count": 3,
   "id": "eb36e9fa",
   "metadata": {
    "ExecuteTime": {
     "end_time": "2023-09-28T06:36:50.545456Z",
     "start_time": "2023-09-28T06:36:50.185814Z"
    }
   },
   "outputs": [],
   "source": [
    "import pandas as pd\n",
    "data2=pd.read_csv(\"iris.csv\")"
   ]
  },
  {
   "cell_type": "code",
   "execution_count": 4,
   "id": "3c4caf6b",
   "metadata": {
    "ExecuteTime": {
     "end_time": "2023-09-28T06:36:51.402712Z",
     "start_time": "2023-09-28T06:36:51.384815Z"
    }
   },
   "outputs": [
    {
     "data": {
      "text/html": [
       "<div>\n",
       "<style scoped>\n",
       "    .dataframe tbody tr th:only-of-type {\n",
       "        vertical-align: middle;\n",
       "    }\n",
       "\n",
       "    .dataframe tbody tr th {\n",
       "        vertical-align: top;\n",
       "    }\n",
       "\n",
       "    .dataframe thead th {\n",
       "        text-align: right;\n",
       "    }\n",
       "</style>\n",
       "<table border=\"1\" class=\"dataframe\">\n",
       "  <thead>\n",
       "    <tr style=\"text-align: right;\">\n",
       "      <th></th>\n",
       "      <th>sepal_length</th>\n",
       "      <th>sepal_width</th>\n",
       "      <th>petal_length</th>\n",
       "      <th>petal_width</th>\n",
       "      <th>species</th>\n",
       "    </tr>\n",
       "  </thead>\n",
       "  <tbody>\n",
       "    <tr>\n",
       "      <th>0</th>\n",
       "      <td>5.1</td>\n",
       "      <td>3.5</td>\n",
       "      <td>1.4</td>\n",
       "      <td>0.2</td>\n",
       "      <td>setosa</td>\n",
       "    </tr>\n",
       "    <tr>\n",
       "      <th>1</th>\n",
       "      <td>4.9</td>\n",
       "      <td>3.0</td>\n",
       "      <td>1.4</td>\n",
       "      <td>0.2</td>\n",
       "      <td>setosa</td>\n",
       "    </tr>\n",
       "    <tr>\n",
       "      <th>2</th>\n",
       "      <td>4.7</td>\n",
       "      <td>3.2</td>\n",
       "      <td>1.3</td>\n",
       "      <td>0.2</td>\n",
       "      <td>setosa</td>\n",
       "    </tr>\n",
       "    <tr>\n",
       "      <th>3</th>\n",
       "      <td>4.6</td>\n",
       "      <td>3.1</td>\n",
       "      <td>1.5</td>\n",
       "      <td>0.2</td>\n",
       "      <td>setosa</td>\n",
       "    </tr>\n",
       "    <tr>\n",
       "      <th>4</th>\n",
       "      <td>5.0</td>\n",
       "      <td>3.6</td>\n",
       "      <td>1.4</td>\n",
       "      <td>0.2</td>\n",
       "      <td>setosa</td>\n",
       "    </tr>\n",
       "  </tbody>\n",
       "</table>\n",
       "</div>"
      ],
      "text/plain": [
       "   sepal_length  sepal_width  petal_length  petal_width species\n",
       "0           5.1          3.5           1.4          0.2  setosa\n",
       "1           4.9          3.0           1.4          0.2  setosa\n",
       "2           4.7          3.2           1.3          0.2  setosa\n",
       "3           4.6          3.1           1.5          0.2  setosa\n",
       "4           5.0          3.6           1.4          0.2  setosa"
      ]
     },
     "execution_count": 4,
     "metadata": {},
     "output_type": "execute_result"
    }
   ],
   "source": [
    "data2.head()"
   ]
  },
  {
   "cell_type": "code",
   "execution_count": 5,
   "id": "1f4bad32",
   "metadata": {
    "ExecuteTime": {
     "end_time": "2023-09-28T06:36:52.669794Z",
     "start_time": "2023-09-28T06:36:52.657673Z"
    }
   },
   "outputs": [],
   "source": [
    "data3=pd.read_csv(\"titanic_train.csv\")"
   ]
  },
  {
   "cell_type": "code",
   "execution_count": 6,
   "id": "b6e115e8",
   "metadata": {
    "ExecuteTime": {
     "end_time": "2023-09-28T06:36:54.175934Z",
     "start_time": "2023-09-28T06:36:54.157205Z"
    }
   },
   "outputs": [
    {
     "data": {
      "text/html": [
       "<div>\n",
       "<style scoped>\n",
       "    .dataframe tbody tr th:only-of-type {\n",
       "        vertical-align: middle;\n",
       "    }\n",
       "\n",
       "    .dataframe tbody tr th {\n",
       "        vertical-align: top;\n",
       "    }\n",
       "\n",
       "    .dataframe thead th {\n",
       "        text-align: right;\n",
       "    }\n",
       "</style>\n",
       "<table border=\"1\" class=\"dataframe\">\n",
       "  <thead>\n",
       "    <tr style=\"text-align: right;\">\n",
       "      <th></th>\n",
       "      <th>PassengerId</th>\n",
       "      <th>Survived</th>\n",
       "      <th>Pclass</th>\n",
       "      <th>Name</th>\n",
       "      <th>Sex</th>\n",
       "      <th>Age</th>\n",
       "      <th>SibSp</th>\n",
       "      <th>Parch</th>\n",
       "      <th>Ticket</th>\n",
       "      <th>Fare</th>\n",
       "      <th>Cabin</th>\n",
       "      <th>Embarked</th>\n",
       "    </tr>\n",
       "  </thead>\n",
       "  <tbody>\n",
       "    <tr>\n",
       "      <th>0</th>\n",
       "      <td>1</td>\n",
       "      <td>0</td>\n",
       "      <td>3</td>\n",
       "      <td>Braund, Mr. Owen Harris</td>\n",
       "      <td>male</td>\n",
       "      <td>22.0</td>\n",
       "      <td>1</td>\n",
       "      <td>0</td>\n",
       "      <td>A/5 21171</td>\n",
       "      <td>7.2500</td>\n",
       "      <td>NaN</td>\n",
       "      <td>S</td>\n",
       "    </tr>\n",
       "    <tr>\n",
       "      <th>1</th>\n",
       "      <td>2</td>\n",
       "      <td>1</td>\n",
       "      <td>1</td>\n",
       "      <td>Cumings, Mrs. John Bradley (Florence Briggs Th...</td>\n",
       "      <td>female</td>\n",
       "      <td>38.0</td>\n",
       "      <td>1</td>\n",
       "      <td>0</td>\n",
       "      <td>PC 17599</td>\n",
       "      <td>71.2833</td>\n",
       "      <td>C85</td>\n",
       "      <td>C</td>\n",
       "    </tr>\n",
       "    <tr>\n",
       "      <th>2</th>\n",
       "      <td>3</td>\n",
       "      <td>1</td>\n",
       "      <td>3</td>\n",
       "      <td>Heikkinen, Miss. Laina</td>\n",
       "      <td>female</td>\n",
       "      <td>26.0</td>\n",
       "      <td>0</td>\n",
       "      <td>0</td>\n",
       "      <td>STON/O2. 3101282</td>\n",
       "      <td>7.9250</td>\n",
       "      <td>NaN</td>\n",
       "      <td>S</td>\n",
       "    </tr>\n",
       "    <tr>\n",
       "      <th>3</th>\n",
       "      <td>4</td>\n",
       "      <td>1</td>\n",
       "      <td>1</td>\n",
       "      <td>Futrelle, Mrs. Jacques Heath (Lily May Peel)</td>\n",
       "      <td>female</td>\n",
       "      <td>35.0</td>\n",
       "      <td>1</td>\n",
       "      <td>0</td>\n",
       "      <td>113803</td>\n",
       "      <td>53.1000</td>\n",
       "      <td>C123</td>\n",
       "      <td>S</td>\n",
       "    </tr>\n",
       "    <tr>\n",
       "      <th>4</th>\n",
       "      <td>5</td>\n",
       "      <td>0</td>\n",
       "      <td>3</td>\n",
       "      <td>Allen, Mr. William Henry</td>\n",
       "      <td>male</td>\n",
       "      <td>35.0</td>\n",
       "      <td>0</td>\n",
       "      <td>0</td>\n",
       "      <td>373450</td>\n",
       "      <td>8.0500</td>\n",
       "      <td>NaN</td>\n",
       "      <td>S</td>\n",
       "    </tr>\n",
       "  </tbody>\n",
       "</table>\n",
       "</div>"
      ],
      "text/plain": [
       "   PassengerId  Survived  Pclass  \\\n",
       "0            1         0       3   \n",
       "1            2         1       1   \n",
       "2            3         1       3   \n",
       "3            4         1       1   \n",
       "4            5         0       3   \n",
       "\n",
       "                                                Name     Sex   Age  SibSp  \\\n",
       "0                            Braund, Mr. Owen Harris    male  22.0      1   \n",
       "1  Cumings, Mrs. John Bradley (Florence Briggs Th...  female  38.0      1   \n",
       "2                             Heikkinen, Miss. Laina  female  26.0      0   \n",
       "3       Futrelle, Mrs. Jacques Heath (Lily May Peel)  female  35.0      1   \n",
       "4                           Allen, Mr. William Henry    male  35.0      0   \n",
       "\n",
       "   Parch            Ticket     Fare Cabin Embarked  \n",
       "0      0         A/5 21171   7.2500   NaN        S  \n",
       "1      0          PC 17599  71.2833   C85        C  \n",
       "2      0  STON/O2. 3101282   7.9250   NaN        S  \n",
       "3      0            113803  53.1000  C123        S  \n",
       "4      0            373450   8.0500   NaN        S  "
      ]
     },
     "execution_count": 6,
     "metadata": {},
     "output_type": "execute_result"
    }
   ],
   "source": [
    "data3.head()"
   ]
  },
  {
   "cell_type": "code",
   "execution_count": 7,
   "id": "8c6dbe01",
   "metadata": {
    "ExecuteTime": {
     "end_time": "2023-09-28T06:36:54.914638Z",
     "start_time": "2023-09-28T06:36:54.906318Z"
    }
   },
   "outputs": [
    {
     "data": {
      "text/plain": [
       "[27, 57, 54, 26, 34, 44, 40, 39, 30, 34]"
      ]
     },
     "execution_count": 7,
     "metadata": {},
     "output_type": "execute_result"
    }
   ],
   "source": [
    "data"
   ]
  },
  {
   "cell_type": "markdown",
   "id": "3a75c22d",
   "metadata": {},
   "source": [
    "## central tendency\n",
    "\n",
    "### mean\n",
    "### median\n",
    "### mode\n"
   ]
  },
  {
   "cell_type": "code",
   "execution_count": 8,
   "id": "fa470adb",
   "metadata": {
    "ExecuteTime": {
     "end_time": "2023-09-28T06:36:56.410591Z",
     "start_time": "2023-09-28T06:36:56.406095Z"
    }
   },
   "outputs": [],
   "source": [
    "data_copy=data.copy()"
   ]
  },
  {
   "cell_type": "code",
   "execution_count": 9,
   "id": "4c748121",
   "metadata": {
    "ExecuteTime": {
     "end_time": "2023-09-28T06:36:57.123431Z",
     "start_time": "2023-09-28T06:36:57.114853Z"
    }
   },
   "outputs": [
    {
     "data": {
      "text/plain": [
       "[27, 57, 54, 26, 34, 44, 40, 39, 30, 34]"
      ]
     },
     "execution_count": 9,
     "metadata": {},
     "output_type": "execute_result"
    }
   ],
   "source": [
    "data_copy"
   ]
  },
  {
   "cell_type": "code",
   "execution_count": 10,
   "id": "4949bc4f",
   "metadata": {
    "ExecuteTime": {
     "end_time": "2023-09-28T06:36:57.987115Z",
     "start_time": "2023-09-28T06:36:57.975854Z"
    }
   },
   "outputs": [
    {
     "data": {
      "text/plain": [
       "38.5"
      ]
     },
     "execution_count": 10,
     "metadata": {},
     "output_type": "execute_result"
    }
   ],
   "source": [
    "import numpy as np\n",
    "np.mean(data_copy)"
   ]
  },
  {
   "cell_type": "code",
   "execution_count": 11,
   "id": "55fe1cb1",
   "metadata": {
    "ExecuteTime": {
     "end_time": "2023-09-28T06:36:58.584271Z",
     "start_time": "2023-09-28T06:36:58.574735Z"
    }
   },
   "outputs": [
    {
     "data": {
      "text/plain": [
       "36.5"
      ]
     },
     "execution_count": 11,
     "metadata": {},
     "output_type": "execute_result"
    }
   ],
   "source": [
    "np.median(data_copy)"
   ]
  },
  {
   "cell_type": "code",
   "execution_count": 12,
   "id": "4354df7c",
   "metadata": {
    "ExecuteTime": {
     "end_time": "2023-09-28T06:36:59.447176Z",
     "start_time": "2023-09-28T06:36:59.436085Z"
    }
   },
   "outputs": [
    {
     "data": {
      "text/plain": [
       "34"
      ]
     },
     "execution_count": 12,
     "metadata": {},
     "output_type": "execute_result"
    }
   ],
   "source": [
    "from statistics import mode\n",
    "mode(data_copy)"
   ]
  },
  {
   "cell_type": "markdown",
   "id": "04698cc8",
   "metadata": {},
   "source": [
    "# calculate a mean for the sepallenght"
   ]
  },
  {
   "cell_type": "code",
   "execution_count": 13,
   "id": "ff3ce1f4",
   "metadata": {
    "ExecuteTime": {
     "end_time": "2023-09-28T06:37:00.725026Z",
     "start_time": "2023-09-28T06:37:00.714226Z"
    }
   },
   "outputs": [
    {
     "data": {
      "text/plain": [
       "Index(['sepal_length', 'sepal_width', 'petal_length', 'petal_width',\n",
       "       'species'],\n",
       "      dtype='object')"
      ]
     },
     "execution_count": 13,
     "metadata": {},
     "output_type": "execute_result"
    }
   ],
   "source": [
    "data2.columns"
   ]
  },
  {
   "cell_type": "code",
   "execution_count": 14,
   "id": "2105226a",
   "metadata": {
    "ExecuteTime": {
     "end_time": "2023-09-28T06:37:01.926543Z",
     "start_time": "2023-09-28T06:37:01.878265Z"
    }
   },
   "outputs": [
    {
     "data": {
      "text/plain": [
       "5.843333333333334"
      ]
     },
     "execution_count": 14,
     "metadata": {},
     "output_type": "execute_result"
    }
   ],
   "source": [
    "np.mean(data2[\"sepal_length\"])"
   ]
  },
  {
   "cell_type": "markdown",
   "id": "f517ee25",
   "metadata": {},
   "source": [
    "# calculate the median of age column"
   ]
  },
  {
   "cell_type": "code",
   "execution_count": 15,
   "id": "8867d0f7",
   "metadata": {
    "ExecuteTime": {
     "end_time": "2023-09-28T06:37:03.319351Z",
     "start_time": "2023-09-28T06:37:03.302797Z"
    }
   },
   "outputs": [
    {
     "data": {
      "text/html": [
       "<div>\n",
       "<style scoped>\n",
       "    .dataframe tbody tr th:only-of-type {\n",
       "        vertical-align: middle;\n",
       "    }\n",
       "\n",
       "    .dataframe tbody tr th {\n",
       "        vertical-align: top;\n",
       "    }\n",
       "\n",
       "    .dataframe thead th {\n",
       "        text-align: right;\n",
       "    }\n",
       "</style>\n",
       "<table border=\"1\" class=\"dataframe\">\n",
       "  <thead>\n",
       "    <tr style=\"text-align: right;\">\n",
       "      <th></th>\n",
       "      <th>PassengerId</th>\n",
       "      <th>Survived</th>\n",
       "      <th>Pclass</th>\n",
       "      <th>Name</th>\n",
       "      <th>Sex</th>\n",
       "      <th>Age</th>\n",
       "      <th>SibSp</th>\n",
       "      <th>Parch</th>\n",
       "      <th>Ticket</th>\n",
       "      <th>Fare</th>\n",
       "      <th>Cabin</th>\n",
       "      <th>Embarked</th>\n",
       "    </tr>\n",
       "  </thead>\n",
       "  <tbody>\n",
       "    <tr>\n",
       "      <th>0</th>\n",
       "      <td>1</td>\n",
       "      <td>0</td>\n",
       "      <td>3</td>\n",
       "      <td>Braund, Mr. Owen Harris</td>\n",
       "      <td>male</td>\n",
       "      <td>22.0</td>\n",
       "      <td>1</td>\n",
       "      <td>0</td>\n",
       "      <td>A/5 21171</td>\n",
       "      <td>7.2500</td>\n",
       "      <td>NaN</td>\n",
       "      <td>S</td>\n",
       "    </tr>\n",
       "    <tr>\n",
       "      <th>1</th>\n",
       "      <td>2</td>\n",
       "      <td>1</td>\n",
       "      <td>1</td>\n",
       "      <td>Cumings, Mrs. John Bradley (Florence Briggs Th...</td>\n",
       "      <td>female</td>\n",
       "      <td>38.0</td>\n",
       "      <td>1</td>\n",
       "      <td>0</td>\n",
       "      <td>PC 17599</td>\n",
       "      <td>71.2833</td>\n",
       "      <td>C85</td>\n",
       "      <td>C</td>\n",
       "    </tr>\n",
       "    <tr>\n",
       "      <th>2</th>\n",
       "      <td>3</td>\n",
       "      <td>1</td>\n",
       "      <td>3</td>\n",
       "      <td>Heikkinen, Miss. Laina</td>\n",
       "      <td>female</td>\n",
       "      <td>26.0</td>\n",
       "      <td>0</td>\n",
       "      <td>0</td>\n",
       "      <td>STON/O2. 3101282</td>\n",
       "      <td>7.9250</td>\n",
       "      <td>NaN</td>\n",
       "      <td>S</td>\n",
       "    </tr>\n",
       "    <tr>\n",
       "      <th>3</th>\n",
       "      <td>4</td>\n",
       "      <td>1</td>\n",
       "      <td>1</td>\n",
       "      <td>Futrelle, Mrs. Jacques Heath (Lily May Peel)</td>\n",
       "      <td>female</td>\n",
       "      <td>35.0</td>\n",
       "      <td>1</td>\n",
       "      <td>0</td>\n",
       "      <td>113803</td>\n",
       "      <td>53.1000</td>\n",
       "      <td>C123</td>\n",
       "      <td>S</td>\n",
       "    </tr>\n",
       "    <tr>\n",
       "      <th>4</th>\n",
       "      <td>5</td>\n",
       "      <td>0</td>\n",
       "      <td>3</td>\n",
       "      <td>Allen, Mr. William Henry</td>\n",
       "      <td>male</td>\n",
       "      <td>35.0</td>\n",
       "      <td>0</td>\n",
       "      <td>0</td>\n",
       "      <td>373450</td>\n",
       "      <td>8.0500</td>\n",
       "      <td>NaN</td>\n",
       "      <td>S</td>\n",
       "    </tr>\n",
       "  </tbody>\n",
       "</table>\n",
       "</div>"
      ],
      "text/plain": [
       "   PassengerId  Survived  Pclass  \\\n",
       "0            1         0       3   \n",
       "1            2         1       1   \n",
       "2            3         1       3   \n",
       "3            4         1       1   \n",
       "4            5         0       3   \n",
       "\n",
       "                                                Name     Sex   Age  SibSp  \\\n",
       "0                            Braund, Mr. Owen Harris    male  22.0      1   \n",
       "1  Cumings, Mrs. John Bradley (Florence Briggs Th...  female  38.0      1   \n",
       "2                             Heikkinen, Miss. Laina  female  26.0      0   \n",
       "3       Futrelle, Mrs. Jacques Heath (Lily May Peel)  female  35.0      1   \n",
       "4                           Allen, Mr. William Henry    male  35.0      0   \n",
       "\n",
       "   Parch            Ticket     Fare Cabin Embarked  \n",
       "0      0         A/5 21171   7.2500   NaN        S  \n",
       "1      0          PC 17599  71.2833   C85        C  \n",
       "2      0  STON/O2. 3101282   7.9250   NaN        S  \n",
       "3      0            113803  53.1000  C123        S  \n",
       "4      0            373450   8.0500   NaN        S  "
      ]
     },
     "execution_count": 15,
     "metadata": {},
     "output_type": "execute_result"
    }
   ],
   "source": [
    "data3.head()"
   ]
  },
  {
   "cell_type": "code",
   "execution_count": 16,
   "id": "0fcdbfd6",
   "metadata": {
    "ExecuteTime": {
     "end_time": "2023-09-28T06:37:04.057516Z",
     "start_time": "2023-09-28T06:37:04.047319Z"
    }
   },
   "outputs": [
    {
     "data": {
      "text/plain": [
       "(891, 12)"
      ]
     },
     "execution_count": 16,
     "metadata": {},
     "output_type": "execute_result"
    }
   ],
   "source": [
    "data3.shape"
   ]
  },
  {
   "cell_type": "code",
   "execution_count": 17,
   "id": "2a276bb3",
   "metadata": {
    "ExecuteTime": {
     "end_time": "2023-09-28T06:37:04.840252Z",
     "start_time": "2023-09-28T06:37:04.828136Z"
    }
   },
   "outputs": [
    {
     "data": {
      "text/plain": [
       "105"
      ]
     },
     "execution_count": 17,
     "metadata": {},
     "output_type": "execute_result"
    }
   ],
   "source": [
    "819-714"
   ]
  },
  {
   "cell_type": "code",
   "execution_count": 18,
   "id": "dad12136",
   "metadata": {
    "ExecuteTime": {
     "end_time": "2023-09-28T06:37:05.568255Z",
     "start_time": "2023-09-28T06:37:05.511780Z"
    }
   },
   "outputs": [
    {
     "name": "stdout",
     "output_type": "stream",
     "text": [
      "<class 'pandas.core.frame.DataFrame'>\n",
      "RangeIndex: 891 entries, 0 to 890\n",
      "Data columns (total 12 columns):\n",
      " #   Column       Non-Null Count  Dtype  \n",
      "---  ------       --------------  -----  \n",
      " 0   PassengerId  891 non-null    int64  \n",
      " 1   Survived     891 non-null    int64  \n",
      " 2   Pclass       891 non-null    int64  \n",
      " 3   Name         891 non-null    object \n",
      " 4   Sex          891 non-null    object \n",
      " 5   Age          714 non-null    float64\n",
      " 6   SibSp        891 non-null    int64  \n",
      " 7   Parch        891 non-null    int64  \n",
      " 8   Ticket       891 non-null    object \n",
      " 9   Fare         891 non-null    float64\n",
      " 10  Cabin        204 non-null    object \n",
      " 11  Embarked     889 non-null    object \n",
      "dtypes: float64(2), int64(5), object(5)\n",
      "memory usage: 83.7+ KB\n"
     ]
    }
   ],
   "source": [
    "data3.info()"
   ]
  },
  {
   "cell_type": "code",
   "execution_count": 19,
   "id": "a4d01701",
   "metadata": {
    "ExecuteTime": {
     "end_time": "2023-09-28T06:37:06.252978Z",
     "start_time": "2023-09-28T06:37:06.219099Z"
    }
   },
   "outputs": [
    {
     "data": {
      "text/plain": [
       "14.4542"
      ]
     },
     "execution_count": 19,
     "metadata": {},
     "output_type": "execute_result"
    }
   ],
   "source": [
    "np.median(data3[\"Fare\"])"
   ]
  },
  {
   "cell_type": "code",
   "execution_count": 20,
   "id": "b0dd1527",
   "metadata": {
    "ExecuteTime": {
     "end_time": "2023-09-28T06:37:06.863258Z",
     "start_time": "2023-09-28T06:37:06.846124Z"
    }
   },
   "outputs": [
    {
     "data": {
      "text/plain": [
       "[27, 57, 54, 26, 34, 44, 40, 39, 30, 34]"
      ]
     },
     "execution_count": 20,
     "metadata": {},
     "output_type": "execute_result"
    }
   ],
   "source": [
    "data_copy"
   ]
  },
  {
   "cell_type": "code",
   "execution_count": 21,
   "id": "5f1d5afa",
   "metadata": {
    "ExecuteTime": {
     "end_time": "2023-09-28T06:37:07.461585Z",
     "start_time": "2023-09-28T06:37:07.454924Z"
    }
   },
   "outputs": [],
   "source": [
    "data_copy2=data.copy()"
   ]
  },
  {
   "cell_type": "code",
   "execution_count": 22,
   "id": "b202383f",
   "metadata": {
    "ExecuteTime": {
     "end_time": "2023-09-28T06:37:08.059380Z",
     "start_time": "2023-09-28T06:37:08.055128Z"
    }
   },
   "outputs": [],
   "source": [
    "data_copy2.append(30)"
   ]
  },
  {
   "cell_type": "code",
   "execution_count": 23,
   "id": "65f674cc",
   "metadata": {
    "ExecuteTime": {
     "end_time": "2023-09-28T06:37:11.174750Z",
     "start_time": "2023-09-28T06:37:11.165077Z"
    }
   },
   "outputs": [
    {
     "data": {
      "text/plain": [
       "34"
      ]
     },
     "execution_count": 23,
     "metadata": {},
     "output_type": "execute_result"
    }
   ],
   "source": [
    "import statistics\n",
    "statistics.mode(data_copy2)"
   ]
  },
  {
   "cell_type": "code",
   "execution_count": 24,
   "id": "37908ba2",
   "metadata": {
    "ExecuteTime": {
     "end_time": "2023-09-28T06:37:11.918396Z",
     "start_time": "2023-09-28T06:37:11.910764Z"
    }
   },
   "outputs": [],
   "source": [
    "data_copy2.append(48)\n",
    "data_copy2.append(48)\n",
    "data_copy2.append(19)"
   ]
  },
  {
   "cell_type": "code",
   "execution_count": 25,
   "id": "c31dbab7",
   "metadata": {
    "ExecuteTime": {
     "end_time": "2023-09-28T06:37:12.895173Z",
     "start_time": "2023-09-28T06:37:12.884952Z"
    }
   },
   "outputs": [
    {
     "data": {
      "text/plain": [
       "34"
      ]
     },
     "execution_count": 25,
     "metadata": {},
     "output_type": "execute_result"
    }
   ],
   "source": [
    "import statistics\n",
    "statistics.mode(data_copy2)"
   ]
  },
  {
   "cell_type": "code",
   "execution_count": 26,
   "id": "3257f8dc",
   "metadata": {
    "ExecuteTime": {
     "end_time": "2023-09-28T06:37:13.718928Z",
     "start_time": "2023-09-28T06:37:13.708717Z"
    }
   },
   "outputs": [
    {
     "data": {
      "text/plain": [
       "[27, 57, 54, 26, 34, 44, 40, 39, 30, 34]"
      ]
     },
     "execution_count": 26,
     "metadata": {},
     "output_type": "execute_result"
    }
   ],
   "source": [
    "data_copy"
   ]
  },
  {
   "cell_type": "code",
   "execution_count": 27,
   "id": "6323ea1e",
   "metadata": {
    "ExecuteTime": {
     "end_time": "2023-09-28T06:37:14.691983Z",
     "start_time": "2023-09-28T06:37:14.681635Z"
    }
   },
   "outputs": [
    {
     "data": {
      "text/plain": [
       "[27, 57, 54, 26, 34, 44, 40, 39, 30, 34, 30, 48, 48, 19]"
      ]
     },
     "execution_count": 27,
     "metadata": {},
     "output_type": "execute_result"
    }
   ],
   "source": [
    "data_copy2"
   ]
  },
  {
   "cell_type": "code",
   "execution_count": 28,
   "id": "52335600",
   "metadata": {
    "ExecuteTime": {
     "end_time": "2023-09-28T06:37:17.404920Z",
     "start_time": "2023-09-28T06:37:15.207420Z"
    }
   },
   "outputs": [],
   "source": [
    "from scipy import stats as st"
   ]
  },
  {
   "cell_type": "code",
   "execution_count": 29,
   "id": "4c60a7b9",
   "metadata": {
    "ExecuteTime": {
     "end_time": "2023-09-28T06:37:22.209901Z",
     "start_time": "2023-09-28T06:37:22.199144Z"
    }
   },
   "outputs": [
    {
     "name": "stderr",
     "output_type": "stream",
     "text": [
      "C:\\Users\\Rishav\\AppData\\Local\\Temp\\ipykernel_17736\\4019763977.py:1: FutureWarning: Unlike other reduction functions (e.g. `skew`, `kurtosis`), the default behavior of `mode` typically preserves the axis it acts along. In SciPy 1.11.0, this behavior will change: the default value of `keepdims` will become False, the `axis` over which the statistic is taken will be eliminated, and the value None will no longer be accepted. Set `keepdims` to True or False to avoid this warning.\n",
      "  st.mode(data_copy2)\n"
     ]
    },
    {
     "data": {
      "text/plain": [
       "ModeResult(mode=array([30]), count=array([2]))"
      ]
     },
     "execution_count": 29,
     "metadata": {},
     "output_type": "execute_result"
    }
   ],
   "source": [
    "st.mode(data_copy2)"
   ]
  },
  {
   "cell_type": "code",
   "execution_count": 30,
   "id": "cc3f2aea",
   "metadata": {
    "ExecuteTime": {
     "end_time": "2023-09-28T06:37:25.035202Z",
     "start_time": "2023-09-28T06:37:25.028338Z"
    }
   },
   "outputs": [],
   "source": [
    "# we can do a same thing from multiple lib"
   ]
  },
  {
   "cell_type": "code",
   "execution_count": 31,
   "id": "18e90847",
   "metadata": {
    "ExecuteTime": {
     "end_time": "2023-09-28T06:37:26.318470Z",
     "start_time": "2023-09-28T06:37:26.309688Z"
    }
   },
   "outputs": [
    {
     "data": {
      "text/plain": [
       "[27, 57, 54, 26, 34, 44, 40, 39, 30, 34]"
      ]
     },
     "execution_count": 31,
     "metadata": {},
     "output_type": "execute_result"
    }
   ],
   "source": [
    "data_copy"
   ]
  },
  {
   "cell_type": "code",
   "execution_count": 32,
   "id": "87a9a034",
   "metadata": {
    "ExecuteTime": {
     "end_time": "2023-09-28T06:37:27.348066Z",
     "start_time": "2023-09-28T06:37:27.338986Z"
    }
   },
   "outputs": [
    {
     "name": "stdout",
     "output_type": "stream",
     "text": [
      "38.5\n"
     ]
    }
   ],
   "source": [
    "def cal_mean(data):\n",
    "    sum=0\n",
    "    for i in data:\n",
    "        sum=sum+i\n",
    "    mean=sum/len(data)\n",
    "    return mean\n",
    "\n",
    "print(cal_mean(data_copy))"
   ]
  },
  {
   "cell_type": "code",
   "execution_count": 33,
   "id": "85efb181",
   "metadata": {
    "ExecuteTime": {
     "end_time": "2023-09-28T06:37:28.096992Z",
     "start_time": "2023-09-28T06:37:28.086530Z"
    }
   },
   "outputs": [
    {
     "data": {
      "text/plain": [
       "[27, 57, 54, 26, 34, 44, 40, 39, 30, 34]"
      ]
     },
     "execution_count": 33,
     "metadata": {},
     "output_type": "execute_result"
    }
   ],
   "source": [
    "data"
   ]
  },
  {
   "cell_type": "code",
   "execution_count": 34,
   "id": "ee335e09",
   "metadata": {
    "ExecuteTime": {
     "end_time": "2023-09-28T06:37:28.770691Z",
     "start_time": "2023-09-28T06:37:28.764119Z"
    }
   },
   "outputs": [
    {
     "data": {
      "text/plain": [
       "38.5"
      ]
     },
     "execution_count": 34,
     "metadata": {},
     "output_type": "execute_result"
    }
   ],
   "source": [
    "np.mean(data)"
   ]
  },
  {
   "cell_type": "code",
   "execution_count": 35,
   "id": "9fb0091c",
   "metadata": {
    "ExecuteTime": {
     "end_time": "2023-09-28T06:37:29.670418Z",
     "start_time": "2023-09-28T06:37:29.660340Z"
    }
   },
   "outputs": [
    {
     "data": {
      "text/plain": [
       "36.5"
      ]
     },
     "execution_count": 35,
     "metadata": {},
     "output_type": "execute_result"
    }
   ],
   "source": [
    "np.median(data)"
   ]
  },
  {
   "cell_type": "code",
   "execution_count": 36,
   "id": "652efa22",
   "metadata": {
    "ExecuteTime": {
     "end_time": "2023-09-28T06:37:30.494302Z",
     "start_time": "2023-09-28T06:37:30.485279Z"
    }
   },
   "outputs": [
    {
     "data": {
      "text/plain": [
       "[27, 57, 54, 26, 34, 44, 40, 39, 30, 34]"
      ]
     },
     "execution_count": 36,
     "metadata": {},
     "output_type": "execute_result"
    }
   ],
   "source": [
    "data_copy"
   ]
  },
  {
   "cell_type": "code",
   "execution_count": 37,
   "id": "74e112e2",
   "metadata": {
    "ExecuteTime": {
     "end_time": "2023-09-28T06:37:32.818794Z",
     "start_time": "2023-09-28T06:37:32.809709Z"
    }
   },
   "outputs": [],
   "source": [
    "data_copy.append(200)"
   ]
  },
  {
   "cell_type": "code",
   "execution_count": 38,
   "id": "2104f0ab",
   "metadata": {
    "ExecuteTime": {
     "end_time": "2023-09-28T06:37:33.376839Z",
     "start_time": "2023-09-28T06:37:33.368130Z"
    }
   },
   "outputs": [
    {
     "data": {
      "text/plain": [
       "[27, 57, 54, 26, 34, 44, 40, 39, 30, 34, 200]"
      ]
     },
     "execution_count": 38,
     "metadata": {},
     "output_type": "execute_result"
    }
   ],
   "source": [
    "data_copy"
   ]
  },
  {
   "cell_type": "code",
   "execution_count": 39,
   "id": "5f0c9314",
   "metadata": {
    "ExecuteTime": {
     "end_time": "2023-09-28T06:37:34.019026Z",
     "start_time": "2023-09-28T06:37:34.009445Z"
    }
   },
   "outputs": [
    {
     "data": {
      "text/plain": [
       "53.18181818181818"
      ]
     },
     "execution_count": 39,
     "metadata": {},
     "output_type": "execute_result"
    }
   ],
   "source": [
    "np.mean(data_copy)"
   ]
  },
  {
   "cell_type": "code",
   "execution_count": 40,
   "id": "c4532097",
   "metadata": {
    "ExecuteTime": {
     "end_time": "2023-09-28T06:37:34.618560Z",
     "start_time": "2023-09-28T06:37:34.609384Z"
    }
   },
   "outputs": [
    {
     "data": {
      "text/plain": [
       "39.0"
      ]
     },
     "execution_count": 40,
     "metadata": {},
     "output_type": "execute_result"
    }
   ],
   "source": [
    "np.median(data_copy)"
   ]
  },
  {
   "cell_type": "markdown",
   "id": "199497a3",
   "metadata": {},
   "source": [
    "# outlier will affect to mean or median?"
   ]
  },
  {
   "cell_type": "code",
   "execution_count": 41,
   "id": "ee5e96f0",
   "metadata": {
    "ExecuteTime": {
     "end_time": "2023-09-28T06:37:37.103507Z",
     "start_time": "2023-09-28T06:37:35.806933Z"
    }
   },
   "outputs": [
    {
     "data": {
      "text/plain": [
       "<Axes: ylabel='Count'>"
      ]
     },
     "execution_count": 41,
     "metadata": {},
     "output_type": "execute_result"
    },
    {
     "data": {
      "image/png": "[encoded data removed]",
      "text/plain": [
       "<Figure size 640x480 with 1 Axes>"
      ]
     },
     "metadata": {},
     "output_type": "display_data"
    }
   ],
   "source": [
    "import seaborn as sns\n",
    "sns.histplot(data,kde=True)"
   ]
  },
  {
   "cell_type": "code",
   "execution_count": 42,
   "id": "9d5eea18",
   "metadata": {
    "ExecuteTime": {
     "end_time": "2023-09-28T06:37:38.018553Z",
     "start_time": "2023-09-28T06:37:37.858772Z"
    }
   },
   "outputs": [
    {
     "data": {
      "text/plain": [
       "<Axes: ylabel='Count'>"
      ]
     },
     "execution_count": 42,
     "metadata": {},
     "output_type": "execute_result"
    },
    {
     "data": {
      "image/png": "[encoded data removed]",
      "text/plain": [
       "<Figure size 640x480 with 1 Axes>"
      ]
     },
     "metadata": {},
     "output_type": "display_data"
    }
   ],
   "source": [
    "import seaborn as sns\n",
    "sns.histplot(data_copy)"
   ]
  },
  {
   "cell_type": "code",
   "execution_count": 43,
   "id": "05195c1d",
   "metadata": {
    "ExecuteTime": {
     "end_time": "2023-09-28T06:37:38.541659Z",
     "start_time": "2023-09-28T06:37:38.533131Z"
    }
   },
   "outputs": [
    {
     "data": {
      "text/plain": [
       "200"
      ]
     },
     "execution_count": 43,
     "metadata": {},
     "output_type": "execute_result"
    }
   ],
   "source": [
    "data_copy.pop()"
   ]
  },
  {
   "cell_type": "code",
   "execution_count": 44,
   "id": "3cf59a76",
   "metadata": {
    "ExecuteTime": {
     "end_time": "2023-09-28T06:37:39.330266Z",
     "start_time": "2023-09-28T06:37:39.321626Z"
    }
   },
   "outputs": [
    {
     "data": {
      "text/plain": [
       "[27, 57, 54, 26, 34, 44, 40, 39, 30, 34]"
      ]
     },
     "execution_count": 44,
     "metadata": {},
     "output_type": "execute_result"
    }
   ],
   "source": [
    "data_copy"
   ]
  },
  {
   "cell_type": "code",
   "execution_count": 45,
   "id": "47bfdd0b",
   "metadata": {
    "ExecuteTime": {
     "end_time": "2023-09-28T06:37:40.073291Z",
     "start_time": "2023-09-28T06:37:40.067055Z"
    }
   },
   "outputs": [],
   "source": [
    "data_copy.sort()"
   ]
  },
  {
   "cell_type": "code",
   "execution_count": 46,
   "id": "24189917",
   "metadata": {
    "ExecuteTime": {
     "end_time": "2023-09-28T06:37:41.575219Z",
     "start_time": "2023-09-28T06:37:41.564788Z"
    }
   },
   "outputs": [
    {
     "data": {
      "text/plain": [
       "[26, 27, 30, 34, 34, 39, 40, 44, 54, 57]"
      ]
     },
     "execution_count": 46,
     "metadata": {},
     "output_type": "execute_result"
    }
   ],
   "source": [
    "data_copy"
   ]
  },
  {
   "cell_type": "code",
   "execution_count": 47,
   "id": "a331e525",
   "metadata": {
    "ExecuteTime": {
     "end_time": "2023-09-28T06:37:42.814238Z",
     "start_time": "2023-09-28T06:37:42.804288Z"
    }
   },
   "outputs": [
    {
     "data": {
      "text/plain": [
       "array([31.])"
      ]
     },
     "execution_count": 47,
     "metadata": {},
     "output_type": "execute_result"
    }
   ],
   "source": [
    "np.percentile(data_copy,[25])"
   ]
  },
  {
   "cell_type": "code",
   "execution_count": 48,
   "id": "647d212f",
   "metadata": {
    "ExecuteTime": {
     "end_time": "2023-09-28T06:37:43.672672Z",
     "start_time": "2023-09-28T06:37:43.662954Z"
    }
   },
   "outputs": [
    {
     "data": {
      "text/plain": [
       "array([36.5])"
      ]
     },
     "execution_count": 48,
     "metadata": {},
     "output_type": "execute_result"
    }
   ],
   "source": [
    "np.percentile(data_copy,[50])"
   ]
  },
  {
   "cell_type": "code",
   "execution_count": 49,
   "id": "6d88ac9f",
   "metadata": {
    "ExecuteTime": {
     "end_time": "2023-09-28T06:37:44.307838Z",
     "start_time": "2023-09-28T06:37:44.298690Z"
    }
   },
   "outputs": [
    {
     "data": {
      "text/plain": [
       "array([43.])"
      ]
     },
     "execution_count": 49,
     "metadata": {},
     "output_type": "execute_result"
    }
   ],
   "source": [
    "np.percentile(data_copy,[75])"
   ]
  },
  {
   "cell_type": "code",
   "execution_count": 50,
   "id": "b992c676",
   "metadata": {
    "ExecuteTime": {
     "end_time": "2023-09-28T06:37:44.947190Z",
     "start_time": "2023-09-28T06:37:44.937734Z"
    }
   },
   "outputs": [
    {
     "data": {
      "text/plain": [
       "array([57.])"
      ]
     },
     "execution_count": 50,
     "metadata": {},
     "output_type": "execute_result"
    }
   ],
   "source": [
    "np.percentile(data_copy,[100])"
   ]
  },
  {
   "cell_type": "code",
   "execution_count": 51,
   "id": "f74b4db4",
   "metadata": {
    "ExecuteTime": {
     "end_time": "2023-09-28T06:37:45.582029Z",
     "start_time": "2023-09-28T06:37:45.574491Z"
    }
   },
   "outputs": [],
   "source": [
    "q1,q2,q3,q4=np.percentile(data,[25,50,75,100])"
   ]
  },
  {
   "cell_type": "code",
   "execution_count": 52,
   "id": "411276c4",
   "metadata": {
    "ExecuteTime": {
     "end_time": "2023-09-28T06:37:47.302373Z",
     "start_time": "2023-09-28T06:37:47.293217Z"
    }
   },
   "outputs": [
    {
     "data": {
      "text/plain": [
       "36.5"
      ]
     },
     "execution_count": 52,
     "metadata": {},
     "output_type": "execute_result"
    }
   ],
   "source": [
    "q2"
   ]
  },
  {
   "cell_type": "code",
   "execution_count": 53,
   "id": "1d1a450c",
   "metadata": {
    "ExecuteTime": {
     "end_time": "2023-09-28T06:37:47.975645Z",
     "start_time": "2023-09-28T06:37:47.966909Z"
    }
   },
   "outputs": [
    {
     "ename": "SyntaxError",
     "evalue": "invalid syntax (3681642188.py, line 1)",
     "output_type": "error",
     "traceback": [
      "\u001b[1;36m  Cell \u001b[1;32mIn[53], line 1\u001b[1;36m\u001b[0m\n\u001b[1;33m    IQR=inter quartile range\u001b[0m\n\u001b[1;37m              ^\u001b[0m\n\u001b[1;31mSyntaxError\u001b[0m\u001b[1;31m:\u001b[0m invalid syntax\n"
     ]
    }
   ],
   "source": [
    "IQR=inter quartile range"
   ]
  },
  {
   "cell_type": "code",
   "execution_count": 54,
   "id": "bb6ac71c",
   "metadata": {
    "ExecuteTime": {
     "end_time": "2023-09-28T06:37:48.536781Z",
     "start_time": "2023-09-28T06:37:48.529757Z"
    }
   },
   "outputs": [],
   "source": [
    "IQR=q3-q1"
   ]
  },
  {
   "cell_type": "code",
   "execution_count": 55,
   "id": "621dbbdf",
   "metadata": {
    "ExecuteTime": {
     "end_time": "2023-09-28T06:37:49.097825Z",
     "start_time": "2023-09-28T06:37:49.090987Z"
    }
   },
   "outputs": [],
   "source": [
    "lower_fence=q1-(IQR*1.5)\n",
    "upper_fence=q3+(IQR*1.5)"
   ]
  },
  {
   "cell_type": "code",
   "execution_count": 56,
   "id": "246d08bd",
   "metadata": {
    "ExecuteTime": {
     "end_time": "2023-09-28T06:37:49.700695Z",
     "start_time": "2023-09-28T06:37:49.691274Z"
    }
   },
   "outputs": [
    {
     "data": {
      "text/plain": [
       "[26, 27, 30, 34, 34, 39, 40, 44, 54, 57]"
      ]
     },
     "execution_count": 56,
     "metadata": {},
     "output_type": "execute_result"
    }
   ],
   "source": [
    "data_copy"
   ]
  },
  {
   "cell_type": "code",
   "execution_count": 57,
   "id": "94330c3b",
   "metadata": {
    "ExecuteTime": {
     "end_time": "2023-09-28T06:37:50.523834Z",
     "start_time": "2023-09-28T06:37:50.515166Z"
    }
   },
   "outputs": [
    {
     "data": {
      "text/plain": [
       "13.0"
      ]
     },
     "execution_count": 57,
     "metadata": {},
     "output_type": "execute_result"
    }
   ],
   "source": [
    "lower_fence"
   ]
  },
  {
   "cell_type": "code",
   "execution_count": 58,
   "id": "b99d5a44",
   "metadata": {
    "ExecuteTime": {
     "end_time": "2023-09-28T06:37:51.160301Z",
     "start_time": "2023-09-28T06:37:51.153246Z"
    }
   },
   "outputs": [
    {
     "data": {
      "text/plain": [
       "61.0"
      ]
     },
     "execution_count": 58,
     "metadata": {},
     "output_type": "execute_result"
    }
   ],
   "source": [
    "upper_fence"
   ]
  },
  {
   "cell_type": "code",
   "execution_count": 59,
   "id": "440144eb",
   "metadata": {
    "ExecuteTime": {
     "end_time": "2023-09-28T06:37:51.841578Z",
     "start_time": "2023-09-28T06:37:51.713136Z"
    }
   },
   "outputs": [
    {
     "data": {
      "text/plain": [
       "<Axes: >"
      ]
     },
     "execution_count": 59,
     "metadata": {},
     "output_type": "execute_result"
    },
    {
     "data": {
      "image/png": "[encoded data removed]",
      "text/plain": [
       "<Figure size 640x480 with 1 Axes>"
      ]
     },
     "metadata": {},
     "output_type": "display_data"
    }
   ],
   "source": [
    "sns.boxplot(data_copy)"
   ]
  },
  {
   "cell_type": "code",
   "execution_count": 60,
   "id": "75878d38",
   "metadata": {
    "ExecuteTime": {
     "end_time": "2023-09-28T06:37:52.432152Z",
     "start_time": "2023-09-28T06:37:52.425820Z"
    }
   },
   "outputs": [],
   "source": [
    "data_copy.append(79)"
   ]
  },
  {
   "cell_type": "code",
   "execution_count": 61,
   "id": "f3bb5265",
   "metadata": {
    "ExecuteTime": {
     "end_time": "2023-09-28T06:37:53.248727Z",
     "start_time": "2023-09-28T06:37:53.140985Z"
    }
   },
   "outputs": [
    {
     "data": {
      "text/plain": [
       "<Axes: >"
      ]
     },
     "execution_count": 61,
     "metadata": {},
     "output_type": "execute_result"
    },
    {
     "data": {
      "image/png": "[encoded data removed]",
      "text/plain": [
       "<Figure size 640x480 with 1 Axes>"
      ]
     },
     "metadata": {},
     "output_type": "display_data"
    }
   ],
   "source": [
    "sns.boxplot(data_copy)"
   ]
  },
  {
   "cell_type": "code",
   "execution_count": 62,
   "id": "63c33ab7",
   "metadata": {
    "ExecuteTime": {
     "end_time": "2023-09-28T06:37:53.854730Z",
     "start_time": "2023-09-28T06:37:53.847918Z"
    }
   },
   "outputs": [],
   "source": [
    "data_copy.append(99)"
   ]
  },
  {
   "cell_type": "code",
   "execution_count": 63,
   "id": "503a4853",
   "metadata": {
    "ExecuteTime": {
     "end_time": "2023-09-28T06:37:54.598911Z",
     "start_time": "2023-09-28T06:37:54.485244Z"
    }
   },
   "outputs": [
    {
     "data": {
      "text/plain": [
       "<Axes: >"
      ]
     },
     "execution_count": 63,
     "metadata": {},
     "output_type": "execute_result"
    },
    {
     "data": {
      "image/png": "[encoded data removed]",
      "text/plain": [
       "<Figure size 640x480 with 1 Axes>"
      ]
     },
     "metadata": {},
     "output_type": "display_data"
    }
   ],
   "source": [
    "sns.boxplot(data_copy)"
   ]
  },
  {
   "cell_type": "code",
   "execution_count": 64,
   "id": "4cedd0de",
   "metadata": {
    "ExecuteTime": {
     "end_time": "2023-09-28T06:37:55.204101Z",
     "start_time": "2023-09-28T06:37:55.197349Z"
    }
   },
   "outputs": [
    {
     "data": {
      "text/plain": [
       "[26, 27, 30, 34, 34, 39, 40, 44, 54, 57, 79, 99]"
      ]
     },
     "execution_count": 64,
     "metadata": {},
     "output_type": "execute_result"
    }
   ],
   "source": [
    "data_copy"
   ]
  },
  {
   "cell_type": "code",
   "execution_count": 65,
   "id": "61986e06",
   "metadata": {
    "ExecuteTime": {
     "end_time": "2023-09-28T06:37:55.913750Z",
     "start_time": "2023-09-28T06:37:55.907316Z"
    }
   },
   "outputs": [],
   "source": [
    "data_copy[0]=20"
   ]
  },
  {
   "cell_type": "code",
   "execution_count": 66,
   "id": "31285336",
   "metadata": {
    "ExecuteTime": {
     "end_time": "2023-09-28T06:37:56.518832Z",
     "start_time": "2023-09-28T06:37:56.513775Z"
    }
   },
   "outputs": [],
   "source": [
    "data_copy[0]=-20"
   ]
  },
  {
   "cell_type": "code",
   "execution_count": 67,
   "id": "28f2de50",
   "metadata": {
    "ExecuteTime": {
     "end_time": "2023-09-28T06:37:58.537390Z",
     "start_time": "2023-09-28T06:37:58.529162Z"
    }
   },
   "outputs": [
    {
     "data": {
      "text/plain": [
       "[-20, 27, 30, 34, 34, 39, 40, 44, 54, 57, 79, 99]"
      ]
     },
     "execution_count": 67,
     "metadata": {},
     "output_type": "execute_result"
    }
   ],
   "source": [
    "data_copy"
   ]
  },
  {
   "cell_type": "code",
   "execution_count": 68,
   "id": "f7c14519",
   "metadata": {
    "ExecuteTime": {
     "end_time": "2023-09-28T06:37:59.467884Z",
     "start_time": "2023-09-28T06:37:59.357392Z"
    }
   },
   "outputs": [
    {
     "data": {
      "text/plain": [
       "<Axes: >"
      ]
     },
     "execution_count": 68,
     "metadata": {},
     "output_type": "execute_result"
    },
    {
     "data": {
      "image/png": "[encoded data removed]",
      "text/plain": [
       "<Figure size 640x480 with 1 Axes>"
      ]
     },
     "metadata": {},
     "output_type": "display_data"
    }
   ],
   "source": [
    "sns.boxplot(data_copy)"
   ]
  },
  {
   "cell_type": "code",
   "execution_count": 69,
   "id": "819e99e6",
   "metadata": {
    "ExecuteTime": {
     "end_time": "2023-09-28T06:37:59.887198Z",
     "start_time": "2023-09-28T06:37:59.877754Z"
    }
   },
   "outputs": [],
   "source": [
    "data_copy.insert(0,-27)"
   ]
  },
  {
   "cell_type": "code",
   "execution_count": 70,
   "id": "27e42186",
   "metadata": {
    "ExecuteTime": {
     "end_time": "2023-09-28T06:38:00.520474Z",
     "start_time": "2023-09-28T06:38:00.513098Z"
    }
   },
   "outputs": [
    {
     "data": {
      "text/plain": [
       "[-27, -20, 27, 30, 34, 34, 39, 40, 44, 54, 57, 79, 99]"
      ]
     },
     "execution_count": 70,
     "metadata": {},
     "output_type": "execute_result"
    }
   ],
   "source": [
    "data_copy"
   ]
  },
  {
   "cell_type": "code",
   "execution_count": 71,
   "id": "982fe550",
   "metadata": {
    "ExecuteTime": {
     "end_time": "2023-09-28T06:38:01.202319Z",
     "start_time": "2023-09-28T06:38:01.073890Z"
    }
   },
   "outputs": [
    {
     "data": {
      "text/plain": [
       "<Axes: >"
      ]
     },
     "execution_count": 71,
     "metadata": {},
     "output_type": "execute_result"
    },
    {
     "data": {
      "image/png": "[encoded data removed]",
      "text/plain": [
       "<Figure size 640x480 with 1 Axes>"
      ]
     },
     "metadata": {},
     "output_type": "display_data"
    }
   ],
   "source": [
    "sns.boxplot(data_copy)"
   ]
  },
  {
   "cell_type": "markdown",
   "id": "23c10962",
   "metadata": {},
   "source": [
    "## sampling techniques\n",
    "## at least 5 sampling technique you are supposed to implement in python"
   ]
  },
  {
   "cell_type": "code",
   "execution_count": 72,
   "id": "3f278510",
   "metadata": {
    "ExecuteTime": {
     "end_time": "2023-09-28T06:38:02.317994Z",
     "start_time": "2023-09-28T06:38:02.309688Z"
    }
   },
   "outputs": [
    {
     "data": {
      "text/plain": [
       "[27, 57, 54, 26, 34, 44, 40, 39, 30, 34]"
      ]
     },
     "execution_count": 72,
     "metadata": {},
     "output_type": "execute_result"
    }
   ],
   "source": [
    "data"
   ]
  },
  {
   "cell_type": "code",
   "execution_count": 73,
   "id": "8f755e85",
   "metadata": {
    "ExecuteTime": {
     "end_time": "2023-09-28T06:38:02.921014Z",
     "start_time": "2023-09-28T06:38:02.913673Z"
    }
   },
   "outputs": [],
   "source": [
    "data_copy=data.copy()"
   ]
  },
  {
   "cell_type": "code",
   "execution_count": 74,
   "id": "c6cf6c13",
   "metadata": {
    "ExecuteTime": {
     "end_time": "2023-09-28T06:38:03.555444Z",
     "start_time": "2023-09-28T06:38:03.547887Z"
    }
   },
   "outputs": [
    {
     "data": {
      "text/plain": [
       "[27, 57, 54, 26, 34, 44, 40, 39, 30, 34]"
      ]
     },
     "execution_count": 74,
     "metadata": {},
     "output_type": "execute_result"
    }
   ],
   "source": [
    "data_copy"
   ]
  },
  {
   "cell_type": "code",
   "execution_count": 75,
   "id": "0d586fc9",
   "metadata": {
    "ExecuteTime": {
     "end_time": "2023-09-28T06:38:04.158112Z",
     "start_time": "2023-09-28T06:38:04.150763Z"
    }
   },
   "outputs": [
    {
     "data": {
      "text/plain": [
       "101.65"
      ]
     },
     "execution_count": 75,
     "metadata": {},
     "output_type": "execute_result"
    }
   ],
   "source": [
    "np.var(data_copy)"
   ]
  },
  {
   "cell_type": "code",
   "execution_count": 76,
   "id": "8d5dbeb8",
   "metadata": {
    "ExecuteTime": {
     "end_time": "2023-09-28T06:38:04.867636Z",
     "start_time": "2023-09-28T06:38:04.857074Z"
    }
   },
   "outputs": [
    {
     "data": {
      "text/plain": [
       "10.0821624664553"
      ]
     },
     "execution_count": 76,
     "metadata": {},
     "output_type": "execute_result"
    }
   ],
   "source": [
    "np.std(data_copy)"
   ]
  },
  {
   "cell_type": "code",
   "execution_count": 77,
   "id": "0b2c8563",
   "metadata": {
    "ExecuteTime": {
     "end_time": "2023-09-28T06:38:05.615587Z",
     "start_time": "2023-09-28T06:38:05.605654Z"
    }
   },
   "outputs": [
    {
     "data": {
      "text/plain": [
       "112.94444444444444"
      ]
     },
     "execution_count": 77,
     "metadata": {},
     "output_type": "execute_result"
    }
   ],
   "source": [
    "statistics.variance(data_copy)"
   ]
  },
  {
   "cell_type": "code",
   "execution_count": 78,
   "id": "dedc099e",
   "metadata": {
    "ExecuteTime": {
     "end_time": "2023-09-28T06:38:06.217825Z",
     "start_time": "2023-09-28T06:38:06.209115Z"
    }
   },
   "outputs": [
    {
     "data": {
      "text/plain": [
       "101.65"
      ]
     },
     "execution_count": 78,
     "metadata": {},
     "output_type": "execute_result"
    }
   ],
   "source": [
    "statistics.pvariance(data_copy)"
   ]
  },
  {
   "cell_type": "code",
   "execution_count": 79,
   "id": "d27772a2",
   "metadata": {
    "ExecuteTime": {
     "end_time": "2023-09-28T06:38:07.193871Z",
     "start_time": "2023-09-28T06:38:07.182823Z"
    }
   },
   "outputs": [
    {
     "data": {
      "text/plain": [
       "112.94444444444444"
      ]
     },
     "execution_count": 79,
     "metadata": {},
     "output_type": "execute_result"
    }
   ],
   "source": [
    "def cal_variance(data):\n",
    "    #mean of the data\n",
    "    n=len(data)\n",
    "    mean=sum(data)/n\n",
    "    \n",
    "    ##calculate the deviation\n",
    "    deviation=[(x-mean)**2 for x in data]\n",
    "    \n",
    "    #calculate the variance\n",
    "    variance=sum(deviation)/(n-1)\n",
    "    \n",
    "    #write the code for the std\n",
    "    \n",
    "    #write the code for the MAD\n",
    "    \n",
    "    #seprate the code based on the population and sample\n",
    "    \n",
    "    return variance\n",
    "\n",
    "cal_variance(data_copy)"
   ]
  },
  {
   "cell_type": "code",
   "execution_count": 80,
   "id": "6d900f8a",
   "metadata": {
    "ExecuteTime": {
     "end_time": "2023-09-28T06:38:07.863332Z",
     "start_time": "2023-09-28T06:38:07.854270Z"
    }
   },
   "outputs": [
    {
     "data": {
      "text/plain": [
       "101.65"
      ]
     },
     "execution_count": 80,
     "metadata": {},
     "output_type": "execute_result"
    }
   ],
   "source": [
    "np.var(data_copy)"
   ]
  },
  {
   "cell_type": "code",
   "execution_count": 81,
   "id": "5126066f",
   "metadata": {
    "ExecuteTime": {
     "end_time": "2023-09-28T06:38:08.461586Z",
     "start_time": "2023-09-28T06:38:08.454137Z"
    }
   },
   "outputs": [
    {
     "data": {
      "text/plain": [
       "112.94444444444444"
      ]
     },
     "execution_count": 81,
     "metadata": {},
     "output_type": "execute_result"
    }
   ],
   "source": [
    "statistics.variance(data_copy)"
   ]
  },
  {
   "cell_type": "code",
   "execution_count": 82,
   "id": "6e6baa79",
   "metadata": {
    "ExecuteTime": {
     "end_time": "2023-09-28T06:38:09.020434Z",
     "start_time": "2023-09-28T06:38:09.013849Z"
    }
   },
   "outputs": [],
   "source": [
    "# corr and cov"
   ]
  },
  {
   "cell_type": "code",
   "execution_count": 83,
   "id": "79a2c30f",
   "metadata": {
    "ExecuteTime": {
     "end_time": "2023-09-28T06:38:09.592112Z",
     "start_time": "2023-09-28T06:38:09.577900Z"
    }
   },
   "outputs": [
    {
     "data": {
      "text/html": [
       "<div>\n",
       "<style scoped>\n",
       "    .dataframe tbody tr th:only-of-type {\n",
       "        vertical-align: middle;\n",
       "    }\n",
       "\n",
       "    .dataframe tbody tr th {\n",
       "        vertical-align: top;\n",
       "    }\n",
       "\n",
       "    .dataframe thead th {\n",
       "        text-align: right;\n",
       "    }\n",
       "</style>\n",
       "<table border=\"1\" class=\"dataframe\">\n",
       "  <thead>\n",
       "    <tr style=\"text-align: right;\">\n",
       "      <th></th>\n",
       "      <th>sepal_length</th>\n",
       "      <th>sepal_width</th>\n",
       "      <th>petal_length</th>\n",
       "      <th>petal_width</th>\n",
       "      <th>species</th>\n",
       "    </tr>\n",
       "  </thead>\n",
       "  <tbody>\n",
       "    <tr>\n",
       "      <th>0</th>\n",
       "      <td>5.1</td>\n",
       "      <td>3.5</td>\n",
       "      <td>1.4</td>\n",
       "      <td>0.2</td>\n",
       "      <td>setosa</td>\n",
       "    </tr>\n",
       "    <tr>\n",
       "      <th>1</th>\n",
       "      <td>4.9</td>\n",
       "      <td>3.0</td>\n",
       "      <td>1.4</td>\n",
       "      <td>0.2</td>\n",
       "      <td>setosa</td>\n",
       "    </tr>\n",
       "    <tr>\n",
       "      <th>2</th>\n",
       "      <td>4.7</td>\n",
       "      <td>3.2</td>\n",
       "      <td>1.3</td>\n",
       "      <td>0.2</td>\n",
       "      <td>setosa</td>\n",
       "    </tr>\n",
       "    <tr>\n",
       "      <th>3</th>\n",
       "      <td>4.6</td>\n",
       "      <td>3.1</td>\n",
       "      <td>1.5</td>\n",
       "      <td>0.2</td>\n",
       "      <td>setosa</td>\n",
       "    </tr>\n",
       "    <tr>\n",
       "      <th>4</th>\n",
       "      <td>5.0</td>\n",
       "      <td>3.6</td>\n",
       "      <td>1.4</td>\n",
       "      <td>0.2</td>\n",
       "      <td>setosa</td>\n",
       "    </tr>\n",
       "  </tbody>\n",
       "</table>\n",
       "</div>"
      ],
      "text/plain": [
       "   sepal_length  sepal_width  petal_length  petal_width species\n",
       "0           5.1          3.5           1.4          0.2  setosa\n",
       "1           4.9          3.0           1.4          0.2  setosa\n",
       "2           4.7          3.2           1.3          0.2  setosa\n",
       "3           4.6          3.1           1.5          0.2  setosa\n",
       "4           5.0          3.6           1.4          0.2  setosa"
      ]
     },
     "execution_count": 83,
     "metadata": {},
     "output_type": "execute_result"
    }
   ],
   "source": [
    "data2.head()"
   ]
  },
  {
   "cell_type": "code",
   "execution_count": 84,
   "id": "dce1fbcf",
   "metadata": {
    "ExecuteTime": {
     "end_time": "2023-09-28T06:38:10.259025Z",
     "start_time": "2023-09-28T06:38:10.252009Z"
    }
   },
   "outputs": [],
   "source": [
    "data2.drop([\"species\"],axis=1,inplace=True)"
   ]
  },
  {
   "cell_type": "code",
   "execution_count": 85,
   "id": "1d4ad69e",
   "metadata": {
    "ExecuteTime": {
     "end_time": "2023-09-28T06:38:11.124926Z",
     "start_time": "2023-09-28T06:38:11.111196Z"
    }
   },
   "outputs": [
    {
     "data": {
      "text/html": [
       "<div>\n",
       "<style scoped>\n",
       "    .dataframe tbody tr th:only-of-type {\n",
       "        vertical-align: middle;\n",
       "    }\n",
       "\n",
       "    .dataframe tbody tr th {\n",
       "        vertical-align: top;\n",
       "    }\n",
       "\n",
       "    .dataframe thead th {\n",
       "        text-align: right;\n",
       "    }\n",
       "</style>\n",
       "<table border=\"1\" class=\"dataframe\">\n",
       "  <thead>\n",
       "    <tr style=\"text-align: right;\">\n",
       "      <th></th>\n",
       "      <th>sepal_length</th>\n",
       "      <th>sepal_width</th>\n",
       "      <th>petal_length</th>\n",
       "      <th>petal_width</th>\n",
       "    </tr>\n",
       "  </thead>\n",
       "  <tbody>\n",
       "    <tr>\n",
       "      <th>0</th>\n",
       "      <td>5.1</td>\n",
       "      <td>3.5</td>\n",
       "      <td>1.4</td>\n",
       "      <td>0.2</td>\n",
       "    </tr>\n",
       "    <tr>\n",
       "      <th>1</th>\n",
       "      <td>4.9</td>\n",
       "      <td>3.0</td>\n",
       "      <td>1.4</td>\n",
       "      <td>0.2</td>\n",
       "    </tr>\n",
       "    <tr>\n",
       "      <th>2</th>\n",
       "      <td>4.7</td>\n",
       "      <td>3.2</td>\n",
       "      <td>1.3</td>\n",
       "      <td>0.2</td>\n",
       "    </tr>\n",
       "    <tr>\n",
       "      <th>3</th>\n",
       "      <td>4.6</td>\n",
       "      <td>3.1</td>\n",
       "      <td>1.5</td>\n",
       "      <td>0.2</td>\n",
       "    </tr>\n",
       "    <tr>\n",
       "      <th>4</th>\n",
       "      <td>5.0</td>\n",
       "      <td>3.6</td>\n",
       "      <td>1.4</td>\n",
       "      <td>0.2</td>\n",
       "    </tr>\n",
       "  </tbody>\n",
       "</table>\n",
       "</div>"
      ],
      "text/plain": [
       "   sepal_length  sepal_width  petal_length  petal_width\n",
       "0           5.1          3.5           1.4          0.2\n",
       "1           4.9          3.0           1.4          0.2\n",
       "2           4.7          3.2           1.3          0.2\n",
       "3           4.6          3.1           1.5          0.2\n",
       "4           5.0          3.6           1.4          0.2"
      ]
     },
     "execution_count": 85,
     "metadata": {},
     "output_type": "execute_result"
    }
   ],
   "source": [
    "data2.head()"
   ]
  },
  {
   "cell_type": "code",
   "execution_count": 86,
   "id": "da736ea5",
   "metadata": {
    "ExecuteTime": {
     "end_time": "2023-09-28T06:38:11.700920Z",
     "start_time": "2023-09-28T06:38:11.639269Z"
    }
   },
   "outputs": [
    {
     "data": {
      "text/plain": [
       "array([[4.75      , 4.42166667, 4.35333333, ..., 2.915     , 2.475     ,\n",
       "        2.6       ],\n",
       "       [4.42166667, 4.14916667, 4.055     , ..., 2.95583333, 2.50416667,\n",
       "        2.62833333],\n",
       "       [4.35333333, 4.055     , 3.99      , ..., 2.68833333, 2.28166667,\n",
       "        2.39666667],\n",
       "       ...,\n",
       "       [2.915     , 2.95583333, 2.68833333, ..., 4.18916667, 3.65083333,\n",
       "        3.835     ],\n",
       "       [2.475     , 2.50416667, 2.28166667, ..., 3.65083333, 3.20916667,\n",
       "        3.375     ],\n",
       "       [2.6       , 2.62833333, 2.39666667, ..., 3.835     , 3.375     ,\n",
       "        3.55      ]])"
      ]
     },
     "execution_count": 86,
     "metadata": {},
     "output_type": "execute_result"
    }
   ],
   "source": [
    "np.cov(data2)"
   ]
  },
  {
   "cell_type": "code",
   "execution_count": 87,
   "id": "6246c5df",
   "metadata": {
    "ExecuteTime": {
     "end_time": "2023-09-28T06:38:12.170887Z",
     "start_time": "2023-09-28T06:38:12.117966Z"
    }
   },
   "outputs": [
    {
     "data": {
      "text/plain": [
       "array([[ 0.68569351, -0.03926846,  1.27368233,  0.5169038 ],\n",
       "       [-0.03926846,  0.18800403, -0.32171275, -0.11798121],\n",
       "       [ 1.27368233, -0.32171275,  3.11317942,  1.29638747],\n",
       "       [ 0.5169038 , -0.11798121,  1.29638747,  0.58241432]])"
      ]
     },
     "execution_count": 87,
     "metadata": {},
     "output_type": "execute_result"
    }
   ],
   "source": [
    "np.cov(data2.T)"
   ]
  },
  {
   "cell_type": "code",
   "execution_count": 88,
   "id": "f7cd5fd0",
   "metadata": {
    "ExecuteTime": {
     "end_time": "2023-09-28T06:38:12.698441Z",
     "start_time": "2023-09-28T06:38:12.683089Z"
    }
   },
   "outputs": [
    {
     "data": {
      "text/html": [
       "<div>\n",
       "<style scoped>\n",
       "    .dataframe tbody tr th:only-of-type {\n",
       "        vertical-align: middle;\n",
       "    }\n",
       "\n",
       "    .dataframe tbody tr th {\n",
       "        vertical-align: top;\n",
       "    }\n",
       "\n",
       "    .dataframe thead th {\n",
       "        text-align: right;\n",
       "    }\n",
       "</style>\n",
       "<table border=\"1\" class=\"dataframe\">\n",
       "  <thead>\n",
       "    <tr style=\"text-align: right;\">\n",
       "      <th></th>\n",
       "      <th>sepal_length</th>\n",
       "      <th>sepal_width</th>\n",
       "      <th>petal_length</th>\n",
       "      <th>petal_width</th>\n",
       "    </tr>\n",
       "  </thead>\n",
       "  <tbody>\n",
       "    <tr>\n",
       "      <th>sepal_length</th>\n",
       "      <td>0.685694</td>\n",
       "      <td>-0.039268</td>\n",
       "      <td>1.273682</td>\n",
       "      <td>0.516904</td>\n",
       "    </tr>\n",
       "    <tr>\n",
       "      <th>sepal_width</th>\n",
       "      <td>-0.039268</td>\n",
       "      <td>0.188004</td>\n",
       "      <td>-0.321713</td>\n",
       "      <td>-0.117981</td>\n",
       "    </tr>\n",
       "    <tr>\n",
       "      <th>petal_length</th>\n",
       "      <td>1.273682</td>\n",
       "      <td>-0.321713</td>\n",
       "      <td>3.113179</td>\n",
       "      <td>1.296387</td>\n",
       "    </tr>\n",
       "    <tr>\n",
       "      <th>petal_width</th>\n",
       "      <td>0.516904</td>\n",
       "      <td>-0.117981</td>\n",
       "      <td>1.296387</td>\n",
       "      <td>0.582414</td>\n",
       "    </tr>\n",
       "  </tbody>\n",
       "</table>\n",
       "</div>"
      ],
      "text/plain": [
       "              sepal_length  sepal_width  petal_length  petal_width\n",
       "sepal_length      0.685694    -0.039268      1.273682     0.516904\n",
       "sepal_width      -0.039268     0.188004     -0.321713    -0.117981\n",
       "petal_length      1.273682    -0.321713      3.113179     1.296387\n",
       "petal_width       0.516904    -0.117981      1.296387     0.582414"
      ]
     },
     "execution_count": 88,
     "metadata": {},
     "output_type": "execute_result"
    }
   ],
   "source": [
    "data2.cov()"
   ]
  },
  {
   "cell_type": "code",
   "execution_count": 89,
   "id": "8ca1ff45",
   "metadata": {
    "ExecuteTime": {
     "end_time": "2023-09-28T06:38:13.261951Z",
     "start_time": "2023-09-28T06:38:13.246804Z"
    }
   },
   "outputs": [
    {
     "data": {
      "text/html": [
       "<div>\n",
       "<style scoped>\n",
       "    .dataframe tbody tr th:only-of-type {\n",
       "        vertical-align: middle;\n",
       "    }\n",
       "\n",
       "    .dataframe tbody tr th {\n",
       "        vertical-align: top;\n",
       "    }\n",
       "\n",
       "    .dataframe thead th {\n",
       "        text-align: right;\n",
       "    }\n",
       "</style>\n",
       "<table border=\"1\" class=\"dataframe\">\n",
       "  <thead>\n",
       "    <tr style=\"text-align: right;\">\n",
       "      <th></th>\n",
       "      <th>sepal_length</th>\n",
       "      <th>sepal_width</th>\n",
       "      <th>petal_length</th>\n",
       "      <th>petal_width</th>\n",
       "    </tr>\n",
       "  </thead>\n",
       "  <tbody>\n",
       "    <tr>\n",
       "      <th>sepal_length</th>\n",
       "      <td>1.000000</td>\n",
       "      <td>-0.109369</td>\n",
       "      <td>0.871754</td>\n",
       "      <td>0.817954</td>\n",
       "    </tr>\n",
       "    <tr>\n",
       "      <th>sepal_width</th>\n",
       "      <td>-0.109369</td>\n",
       "      <td>1.000000</td>\n",
       "      <td>-0.420516</td>\n",
       "      <td>-0.356544</td>\n",
       "    </tr>\n",
       "    <tr>\n",
       "      <th>petal_length</th>\n",
       "      <td>0.871754</td>\n",
       "      <td>-0.420516</td>\n",
       "      <td>1.000000</td>\n",
       "      <td>0.962757</td>\n",
       "    </tr>\n",
       "    <tr>\n",
       "      <th>petal_width</th>\n",
       "      <td>0.817954</td>\n",
       "      <td>-0.356544</td>\n",
       "      <td>0.962757</td>\n",
       "      <td>1.000000</td>\n",
       "    </tr>\n",
       "  </tbody>\n",
       "</table>\n",
       "</div>"
      ],
      "text/plain": [
       "              sepal_length  sepal_width  petal_length  petal_width\n",
       "sepal_length      1.000000    -0.109369      0.871754     0.817954\n",
       "sepal_width      -0.109369     1.000000     -0.420516    -0.356544\n",
       "petal_length      0.871754    -0.420516      1.000000     0.962757\n",
       "petal_width       0.817954    -0.356544      0.962757     1.000000"
      ]
     },
     "execution_count": 89,
     "metadata": {},
     "output_type": "execute_result"
    }
   ],
   "source": [
    "data2.corr()"
   ]
  },
  {
   "cell_type": "code",
   "execution_count": 90,
   "id": "f93014cc",
   "metadata": {
    "ExecuteTime": {
     "end_time": "2023-09-28T06:38:13.983000Z",
     "start_time": "2023-09-28T06:38:13.806755Z"
    }
   },
   "outputs": [
    {
     "data": {
      "text/plain": [
       "<Axes: xlabel='petal_width', ylabel='petal_length'>"
      ]
     },
     "execution_count": 90,
     "metadata": {},
     "output_type": "execute_result"
    },
    {
     "data": {
      "image/png": "[encoded data removed]",
      "text/plain": [
       "<Figure size 640x480 with 1 Axes>"
      ]
     },
     "metadata": {},
     "output_type": "display_data"
    }
   ],
   "source": [
    "sns.scatterplot(x=data2[\"petal_width\"],y=data2[\"petal_length\"])"
   ]
  },
  {
   "cell_type": "code",
   "execution_count": 91,
   "id": "b38ede34",
   "metadata": {
    "ExecuteTime": {
     "end_time": "2023-09-28T06:38:14.799719Z",
     "start_time": "2023-09-28T06:38:14.518564Z"
    }
   },
   "outputs": [
    {
     "data": {
      "text/plain": [
       "<Axes: xlabel='sepal_width', ylabel='sepal_length'>"
      ]
     },
     "execution_count": 91,
     "metadata": {},
     "output_type": "execute_result"
    },
    {
     "data": {
      "image/png": "[encoded data removed]",
      "text/plain": [
       "<Figure size 640x480 with 1 Axes>"
      ]
     },
     "metadata": {},
     "output_type": "display_data"
    }
   ],
   "source": [
    "sns.scatterplot(x=data2[\"sepal_width\"],y=data2[\"sepal_length\"])"
   ]
  },
  {
   "cell_type": "code",
   "execution_count": null,
   "id": "cae450be",
   "metadata": {},
   "outputs": [],
   "source": []
  }
 ],
 "metadata": {
  "kernelspec": {
   "display_name": "Python 3 (ipykernel)",
   "language": "python",
   "name": "python3"
  },
  "language_info": {
   "codemirror_mode": {
    "name": "ipython",
    "version": 3
   },
   "file_extension": ".py",
   "mimetype": "text/x-python",
   "name": "python",
   "nbconvert_exporter": "python",
   "pygments_lexer": "ipython3",
   "version": "3.11.3"
  },
  "varInspector": {
   "cols": {
    "lenName": 16,
    "lenType": 16,
    "lenVar": 40
   },
   "kernels_config": {
    "python": {
     "delete_cmd_postfix": "",
     "delete_cmd_prefix": "del ",
     "library": "var_list.py",
     "varRefreshCmd": "print(var_dic_list())"
    },
    "r": {
     "delete_cmd_postfix": ") ",
     "delete_cmd_prefix": "rm(",
     "library": "var_list.r",
     "varRefreshCmd": "cat(var_dic_list()) "
    }
   },
   "types_to_exclude": [
    "module",
    "function",
    "builtin_function_or_method",
    "instance",
    "_Feature"
   ],
   "window_display": false
  }
 },
 "nbformat": 4,
 "nbformat_minor": 5
}
